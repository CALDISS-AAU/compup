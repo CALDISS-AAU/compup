{
 "cells": [
  {
   "cell_type": "markdown",
   "metadata": {
    "slideshow": {
     "slide_type": "slide"
    }
   },
   "source": [
    "# Introduction to Python (on UCloud)\n",
    "\n",
    "### *CompUp workshop, October 27th 2021*"
   ]
  },
  {
   "cell_type": "markdown",
   "metadata": {
    "slideshow": {
     "slide_type": "slide"
    }
   },
   "source": [
    "# Purpose of the Python workshops\n",
    "\n",
    "- Provide general insights into using Python for social data science\n",
    "- First steps in doing various forms of analysis with Python\n",
    "- The first three workshops: Providing the foundation for understanding the tools introduced in theme-specific workshops\n",
    "    - First three workshops as a coherent series\n",
    "    - Theme-specific workshops individual"
   ]
  },
  {
   "cell_type": "markdown",
   "metadata": {
    "slideshow": {
     "slide_type": "slide"
    }
   },
   "source": [
    "# Content of today's workshop\n",
    "\n",
    "- **Introduction to UCloud**\n",
    "- **Launching your first app on UCloud (JupyterLab)**\n",
    "- **What is \"Python\"?**\n",
    "- **Working with Python (in JupyterLab)**\n",
    "- **The Python basics**\n",
    "    - The Python language\n",
    "    - Variables in Python\n",
    "    - Types of variables: numeric, string, boolean\n",
    "    - Functions and methods\n",
    "    - Packages\n",
    "- **Basic data structures in Python**\n",
    "    - Lists and tuples\n",
    "    - Dictionaries\n",
    "- **Basic control structures in Python**\n",
    "    - For loops\n",
    "    - While loops\n",
    "    - If-else statements\n",
    "- **Introduction to pandas DataFrames**\n",
    "    - What is a dataframe?\n",
    "    - Reading in data as a dataframe"
   ]
  },
  {
   "cell_type": "markdown",
   "metadata": {
    "slideshow": {
     "slide_type": "slide"
    }
   },
   "source": [
    "# Teaching format\n",
    "\n",
    "- Live-coding - Write along as we go\n",
    "- Exercises throughout - feel free to help each other\n",
    "- Raise hand for questions\n",
    "- Use stickers to indicate status\n",
    "    - Green: I'm good\n",
    "    - Red: I need assistance"
   ]
  },
  {
   "cell_type": "markdown",
   "metadata": {
    "slideshow": {
     "slide_type": "slide"
    }
   },
   "source": [
    "# Introduction to UCloud\n",
    "\n",
    "## What is \"UCloud\"?\n",
    "- Interactive digital research environment\n",
    "- Cloud service\n",
    "- Computing and data management\n",
    "- Created for researchers\n",
    "- App-based\n",
    "\n",
    "## Why use UCloud?\n",
    "- Easy access to files and programs\n",
    "- One location for analysis solutions (no need to deal with differing installations)\n",
    "- GDPR-compliant storage\n",
    "- Eases collaboration"
   ]
  },
  {
   "cell_type": "markdown",
   "metadata": {
    "slideshow": {
     "slide_type": "slide"
    }
   },
   "source": [
    "# Introduction to UCloud\n",
    "\n",
    "## App-based?\n",
    "- UCloud works via virtual machines\n",
    "- Start up virtual machine based on analysis software needed\n",
    "- You \"pay\" for the amount of time the app is running\n",
    "\n",
    "***You have 1000 DKK on your account corresponding to 2907 hours of running a machine non-stop with 23 GB RAM and 4 VCPUs***"
   ]
  },
  {
   "cell_type": "markdown",
   "metadata": {
    "slideshow": {
     "slide_type": "slide"
    }
   },
   "source": [
    "# Introduction to UCloud\n",
    "\n",
    "### Navigating UCloud\n",
    "\n",
    "(live demo)\n",
    "\n",
    "### Files on UCloud\n",
    "\n",
    "(live demo)\n",
    "\n",
    "### Launching your first app\n",
    "\n",
    "(live demo)"
   ]
  },
  {
   "cell_type": "markdown",
   "metadata": {
    "slideshow": {
     "slide_type": "slide"
    }
   },
   "source": [
    "# What is Python?\n",
    "\n",
    "- General purpose programming language\n",
    "- Popularity within \"data science\" (but is used for so much more than that)\n",
    "\n",
    "### Working with Python\n",
    "\n",
    "- No GUI (graphical user interface)\n",
    "- Command-based (speak Python and you shall receive; speak anything else and you shall receive errors)\n",
    "\n",
    "### Why use Python?\n",
    "\n",
    "- Versatile (not locked to specific file- or data formats)\n",
    "- Expandable (write your own functions)\n",
    "- Free\n",
    "- Portalbe (Windows, Linux, Mac)\n",
    "- Large community and eco-system"
   ]
  },
  {
   "cell_type": "markdown",
   "metadata": {
    "slideshow": {
     "slide_type": "slide"
    }
   },
   "source": [
    "# What is Python\n",
    "\n",
    "## Characteristics of the Python programming language\n",
    "\n",
    "## Python som programmeringssprog\n",
    "\n",
    "**Python is \"general purpose\"**\n",
    "\n",
    "**Python is \"object-oriented\"**\n",
    "\n",
    "**Python is \"cross-platform\"**"
   ]
  },
  {
   "cell_type": "markdown",
   "metadata": {
    "slideshow": {
     "slide_type": "slide"
    }
   },
   "source": [
    "# Working with Python (in JupyterLab)\n",
    "\n",
    "- One works with Python via an IDE (Interactive Development Environment)\n",
    "- [JupyterLab](https://jupyter.org/) is a Python IDE\n",
    "- JupyterLab is a web-based interactive computational environment for creating notebooks for codes.\n",
    "\n",
    "It is originally developed for python but can be used for other code as well (for example R).\n",
    "\n",
    "Jupyter Notebook works in a cell-structure. Each notebook is comprised of cells. The cells can be either code cells or markdown cells (or raw cells)\n",
    "\n",
    "    Code cells: Contains python code\n",
    "    Markdown cells: Write text\n"
   ]
  },
  {
   "cell_type": "code",
   "execution_count": null,
   "metadata": {},
   "outputs": [],
   "source": []
  }
 ],
 "metadata": {
  "kernelspec": {
   "display_name": "Python 3 (ipykernel)",
   "language": "python",
   "name": "python3"
  },
  "language_info": {
   "codemirror_mode": {
    "name": "ipython",
    "version": 3
   },
   "file_extension": ".py",
   "mimetype": "text/x-python",
   "name": "python",
   "nbconvert_exporter": "python",
   "pygments_lexer": "ipython3",
   "version": "3.7.9"
  }
 },
 "nbformat": 4,
 "nbformat_minor": 4
}
