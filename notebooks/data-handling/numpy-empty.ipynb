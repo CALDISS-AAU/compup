{
 "cells": [
  {
   "cell_type": "markdown",
   "id": "c31fb27e",
   "metadata": {
    "slideshow": {
     "slide_type": "slide"
    }
   },
   "source": [
    "# NumPy arrays\n",
    "\n",
    "Sometimes we need to work on large amounts of numerical data.\n",
    "\n",
    "NumPy provides a fundamental building block efficiently storing and processing numerical data in Python:"
   ]
  },
  {
   "cell_type": "markdown",
   "id": "e7a6530b",
   "metadata": {
    "slideshow": {
     "slide_type": "subslide"
    }
   },
   "source": [
    "# Building numerical data to analyse\n",
    "\n",
    "As an example of numerical data that NumPy is an excellent solution for, let us build a matrix of which Twitter users mention which other users and how often, from our Twitter data set.\n",
    "\n",
    "### Exercise: Finding Twitter user names\n",
    "\n",
    "Quoting from [Twitter](https://help.twitter.com/en/managing-your-account/twitter-username-rules):\n",
    "> Your username cannot be longer than 15 characters. Your name can be longer (50 characters) or shorter than 4 characters, but usernames are kept shorter for the sake of ease.  \n",
    "> A username can only contain alphanumeric characters (letters A-Z, numbers 0-9) with the exception of underscores, as noted above. Check to make sure your desired username doesn't contain any symbols, dashes, or spaces.\n",
    "\n",
    "- Compose a regex that can match valid Twitter user names, in a context where they start by '@'\n",
    "- Test it using `re.search`\n",
    "  - Should match for example '@ThomasArildsen', '@SiGnE14', '@_Kristian'\n",
    "  - Should not match '@Thomas+', '@Signe@AAU', '@ThomasArildsen_AAU'"
   ]
  },
  {
   "cell_type": "markdown",
   "id": "a8801661",
   "metadata": {
    "slideshow": {
     "slide_type": "subslide"
    }
   },
   "source": [
    "### Inspecting NumPy arrays\n",
    "\n",
    "We can inspect properties such as shape and size of an array:"
   ]
  },
  {
   "cell_type": "markdown",
   "id": "e41bc7e7",
   "metadata": {
    "slideshow": {
     "slide_type": "subslide"
    }
   },
   "source": [
    "Let us try building a matrix that identifies which users have mentioned whom, and how many times.\n",
    "- Along each axis of the matrix we will have a row for each \"conversationist\", and likewise a column for each.\n",
    "- We will need an array (matrix) of the above size along each axis."
   ]
  },
  {
   "cell_type": "markdown",
   "id": "e472c10e",
   "metadata": {
    "slideshow": {
     "slide_type": "subslide"
    }
   },
   "source": [
    "We build a dictionary for \"translating\" between user names and indexes in the array:"
   ]
  },
  {
   "cell_type": "markdown",
   "id": "4a77d357",
   "metadata": {
    "slideshow": {
     "slide_type": "subslide"
    }
   },
   "source": [
    "Now, let us populate the (so far empty) `mentions` array."
   ]
  },
  {
   "cell_type": "markdown",
   "id": "85142010",
   "metadata": {
    "slideshow": {
     "slide_type": "subslide"
    }
   },
   "source": [
    "Now we can use mathematical operations on the NumPy array `mentions` to answer questions like:\n",
    "- How much does each \"conversationist\" mention other conversationists?"
   ]
  },
  {
   "cell_type": "markdown",
   "id": "13c5a0b0",
   "metadata": {
    "slideshow": {
     "slide_type": "subslide"
    }
   },
   "source": [
    "- How much does each \"conversationist\" get mentioned?"
   ]
  },
  {
   "cell_type": "markdown",
   "id": "bc0e80bc",
   "metadata": {
    "slideshow": {
     "slide_type": "subslide"
    }
   },
   "source": [
    "- Who mentions the most other users?"
   ]
  },
  {
   "cell_type": "markdown",
   "id": "61d72f0d",
   "metadata": {
    "slideshow": {
     "slide_type": "slide"
    }
   },
   "source": [
    "# Exercise: answering more Twitter questions\n",
    "\n",
    "- Who gets mentioned by most conversationists?\n",
    "- How many times does a conversationist mention others on average?\n",
    "- How many times does a conversationist get mentioned on average?"
   ]
  }
 ],
 "metadata": {
  "celltoolbar": "Slideshow",
  "kernelspec": {
   "display_name": "Python 3",
   "language": "python",
   "name": "python3"
  },
  "language_info": {
   "codemirror_mode": {
    "name": "ipython",
    "version": 3
   },
   "file_extension": ".py",
   "mimetype": "text/x-python",
   "name": "python",
   "nbconvert_exporter": "python",
   "pygments_lexer": "ipython3",
   "version": "3.8.8"
  }
 },
 "nbformat": 4,
 "nbformat_minor": 5
}
