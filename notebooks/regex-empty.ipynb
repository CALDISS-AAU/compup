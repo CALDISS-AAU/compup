{
 "cells": [
  {
   "cell_type": "markdown",
   "id": "d430eaa7",
   "metadata": {
    "slideshow": {
     "slide_type": "slide"
    }
   },
   "source": [
    "# CompUp Workshop\n",
    "\n",
    "17th of November, 2021\n",
    "\n",
    "Thomas Arildsen, CLAAUDIA"
   ]
  },
  {
   "cell_type": "markdown",
   "id": "3939119e",
   "metadata": {
    "slideshow": {
     "slide_type": "slide"
    }
   },
   "source": [
    "# Text processing with regular expressions\n",
    "\n",
    "What are regular expressions?\n",
    "\n",
    "> A **regular expression** (shortened as **regex** or **regexp**; also referred to as rational expression) is a sequence of characters that specifies a search pattern. Usually such patterns are used by string-searching algorithms for \"find\" or \"find and replace\" operations on strings, or for input validation. It is a technique developed in theoretical computer science and formal language theory.\n",
    "\n",
    "\\[[Wikipedia](https://en.wikipedia.org/wiki/Regular_expression)\\]"
   ]
  },
  {
   "cell_type": "markdown",
   "id": "d89928ca",
   "metadata": {
    "slideshow": {
     "slide_type": "subslide"
    }
   },
   "source": [
    "So, a \"regex\" is a sort of special text string that specifies a pattern you want to search for.\n",
    "\n",
    "A simpler example - may be familiar to some: \"wildcard\" text strings:\n",
    "\n",
    "    some*\n",
    "    \n",
    "- Matches: \"something\", \"some\", \"somelier\", etc.\n",
    "- Often used when listing / searching for files:"
   ]
  },
  {
   "cell_type": "code",
   "execution_count": null,
   "id": "aee396ee",
   "metadata": {
    "slideshow": {
     "slide_type": "-"
    }
   },
   "outputs": [],
   "source": [
    "!ls *.ipynb"
   ]
  },
  {
   "cell_type": "markdown",
   "id": "3bd35753",
   "metadata": {
    "slideshow": {
     "slide_type": "subslide"
    }
   },
   "source": [
    "\"Wildcard\" text strings are just a simple example of specifying text patterns.\n",
    "- Regular expressions are more general than this\n",
    "- Regular expressions are a combination of *literal characters* and *meta-characters*\n",
    "- Literal characters: for example ordinary letters that should be taken as-is: \"b\"\n",
    "- Meta-characters: typically special or punctuation characters that serve a functional role in the regex: \".\" (matches any 1 character)\n",
    "  \n",
    "      b.\n",
    "\n",
    "- Matches \"be\", \"by\", \"b5\", \"b:\"; etc. *Not* \"beer\", \"banana\", etc.\n",
    "- Notice how the meta-character \".\" matches only 1 character. Must be combined with more meta-characters to match longer string parts."
   ]
  },
  {
   "cell_type": "markdown",
   "id": "0a58dd6a",
   "metadata": {
    "slideshow": {
     "slide_type": "slide"
    }
   },
   "source": [
    "# Regular expressions in Python\n",
    "\n",
    "Python has a module with functionality for working with regular expressions: `re`\n",
    "- Part of the Python standard library, so no need to install anything extra"
   ]
  },
  {
   "cell_type": "markdown",
   "id": "cc6f211e",
   "metadata": {
    "slideshow": {
     "slide_type": "subslide"
    }
   },
   "source": [
    "\n",
    "## How to write regex patterns in Python\n",
    "\n",
    "`\\` in Python strings is used to \"escape\" certain special characters.\n",
    "- For example, we must type `'\\\\'` to get a backslash or `'\\n'` to get a new line - try it:"
   ]
  },
  {
   "cell_type": "markdown",
   "id": "686e3dce",
   "metadata": {
    "slideshow": {
     "slide_type": "subslide"
    }
   },
   "source": [
    "In regex, `\\` is also used to denote special sequences - as we shall see shortly.\n",
    "- Can \"collide\" with Python's \"escaping\" of characters in text strings - makes it cumbersome to write special sequences in regex.\n",
    "- Solution: use Python's \"raw text strings\" for regex:"
   ]
  },
  {
   "cell_type": "markdown",
   "id": "29aac660",
   "metadata": {
    "slideshow": {
     "slide_type": "subslide"
    }
   },
   "source": [
    "## Searching with regex\n",
    "\n",
    "Now we are ready to try some regex searching. What does `re.search` return?:"
   ]
  },
  {
   "cell_type": "markdown",
   "id": "6f1889fd",
   "metadata": {
    "slideshow": {
     "slide_type": "subslide"
    }
   },
   "source": [
    "# Regex syntax\n",
    "\n",
    "Now we know a little better how `re.search` behaves. Time to look closer at how to type regex.\n",
    "- So far, we have seen simple examples with literal characters\n",
    "\n",
    "      r'needle'\n",
    "      \n",
    "- The real strength of regex comes from meta-characters, or special characters, and special sequences\n",
    "\n",
    "`.`"
   ]
  },
  {
   "cell_type": "markdown",
   "id": "924c6924",
   "metadata": {
    "slideshow": {
     "slide_type": "slide"
    }
   },
   "source": [
    "# Sifting through Twitter data\n",
    "\n",
    "Let us put regex search to some real use. We download a selection of tweets from Twitter mentioning the hashtag '#metoo'.\n",
    "\n",
    "Save [this file](https://gist.githubusercontent.com/ThomasA/9c524894e17d56b211c51cdc34c404ca/raw/8cfade6dbe859999dcfaaba3cc5d96f46cd43da9/twitter.csv).\n"
   ]
  },
  {
   "cell_type": "code",
   "execution_count": null,
   "id": "08616b2c",
   "metadata": {
    "slideshow": {
     "slide_type": "-"
    }
   },
   "outputs": [],
   "source": [
    "!wget https://gist.githubusercontent.com/ThomasA/9c524894e17d56b211c51cdc34c404ca/raw/8cfade6dbe859999dcfaaba3cc5d96f46cd43da9/twitter.csv"
   ]
  },
  {
   "cell_type": "markdown",
   "id": "5259bd87",
   "metadata": {
    "slideshow": {
     "slide_type": "subslide"
    }
   },
   "source": [
    "## Character classes\n",
    "\n",
    "Specifying a word like `r'[A-Za-z]'` may be a bit cumbersome.\n",
    "- Quicker way of specifying character classes like words (`\\w` matches \"word\" *characters*; `[a-zA-Z0-9_]` in ASCII):"
   ]
  },
  {
   "cell_type": "markdown",
   "id": "62185740",
   "metadata": {
    "slideshow": {
     "slide_type": "-"
    }
   },
   "source": [
    "See more character classes and regex features [in the documentation](https://docs.python.org/3.8/library/re.html#index-24)."
   ]
  },
  {
   "cell_type": "markdown",
   "id": "fdea70f7",
   "metadata": {
    "slideshow": {
     "slide_type": "subslide"
    }
   },
   "source": [
    "\n",
    "## Substitution\n",
    "\n",
    "Regex can also be used for more things than just searching:\n",
    "- Substitution:"
   ]
  }
 ],
 "metadata": {
  "celltoolbar": "Slideshow",
  "kernelspec": {
   "display_name": "Python 3",
   "language": "python",
   "name": "python3"
  },
  "language_info": {
   "codemirror_mode": {
    "name": "ipython",
    "version": 3
   },
   "file_extension": ".py",
   "mimetype": "text/x-python",
   "name": "python",
   "nbconvert_exporter": "python",
   "pygments_lexer": "ipython3",
   "version": "3.8.8"
  }
 },
 "nbformat": 4,
 "nbformat_minor": 5
}
